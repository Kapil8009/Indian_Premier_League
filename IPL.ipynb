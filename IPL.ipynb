{
 "cells": [
  {
   "cell_type": "code",
   "execution_count": 1,
   "id": "c4b7a076",
   "metadata": {},
   "outputs": [],
   "source": [
    "import numpy as np\n",
    "\n",
    "import pandas as pd\n"
   ]
  },
  {
   "cell_type": "code",
   "execution_count": 2,
   "id": "fb019ab9",
   "metadata": {},
   "outputs": [
    {
     "data": {
      "text/html": [
       "<div>\n",
       "<style scoped>\n",
       "    .dataframe tbody tr th:only-of-type {\n",
       "        vertical-align: middle;\n",
       "    }\n",
       "\n",
       "    .dataframe tbody tr th {\n",
       "        vertical-align: top;\n",
       "    }\n",
       "\n",
       "    .dataframe thead th {\n",
       "        text-align: right;\n",
       "    }\n",
       "</style>\n",
       "<table border=\"1\" class=\"dataframe\">\n",
       "  <thead>\n",
       "    <tr style=\"text-align: right;\">\n",
       "      <th></th>\n",
       "      <th>id</th>\n",
       "      <th>season</th>\n",
       "      <th>city</th>\n",
       "      <th>date</th>\n",
       "      <th>match_type</th>\n",
       "      <th>player_of_match</th>\n",
       "      <th>venue</th>\n",
       "      <th>team1</th>\n",
       "      <th>team2</th>\n",
       "      <th>toss_winner</th>\n",
       "      <th>toss_decision</th>\n",
       "      <th>winner</th>\n",
       "      <th>result</th>\n",
       "      <th>result_margin</th>\n",
       "      <th>target_runs</th>\n",
       "      <th>target_overs</th>\n",
       "      <th>super_over</th>\n",
       "      <th>method</th>\n",
       "      <th>umpire1</th>\n",
       "      <th>umpire2</th>\n",
       "    </tr>\n",
       "  </thead>\n",
       "  <tbody>\n",
       "    <tr>\n",
       "      <th>943</th>\n",
       "      <td>1304114</td>\n",
       "      <td>2022</td>\n",
       "      <td>Mumbai</td>\n",
       "      <td>5/20/2022</td>\n",
       "      <td>League</td>\n",
       "      <td>R Ashwin</td>\n",
       "      <td>Brabourne Stadium, Mumbai</td>\n",
       "      <td>Chennai Super Kings</td>\n",
       "      <td>Rajasthan Royals</td>\n",
       "      <td>Chennai Super Kings</td>\n",
       "      <td>bat</td>\n",
       "      <td>Rajasthan Royals</td>\n",
       "      <td>wickets</td>\n",
       "      <td>5.0</td>\n",
       "      <td>151.0</td>\n",
       "      <td>20.0</td>\n",
       "      <td>N</td>\n",
       "      <td>NaN</td>\n",
       "      <td>CB Gaffaney</td>\n",
       "      <td>NA Patwardhan</td>\n",
       "    </tr>\n",
       "    <tr>\n",
       "      <th>460</th>\n",
       "      <td>829709</td>\n",
       "      <td>2015</td>\n",
       "      <td>Pune</td>\n",
       "      <td>4/10/2015</td>\n",
       "      <td>League</td>\n",
       "      <td>JP Faulkner</td>\n",
       "      <td>Maharashtra Cricket Association Stadium</td>\n",
       "      <td>Kings XI Punjab</td>\n",
       "      <td>Rajasthan Royals</td>\n",
       "      <td>Kings XI Punjab</td>\n",
       "      <td>field</td>\n",
       "      <td>Rajasthan Royals</td>\n",
       "      <td>runs</td>\n",
       "      <td>26.0</td>\n",
       "      <td>163.0</td>\n",
       "      <td>20.0</td>\n",
       "      <td>N</td>\n",
       "      <td>NaN</td>\n",
       "      <td>SD Fry</td>\n",
       "      <td>CB Gaffaney</td>\n",
       "    </tr>\n",
       "    <tr>\n",
       "      <th>422</th>\n",
       "      <td>733979</td>\n",
       "      <td>2014</td>\n",
       "      <td>Ahmedabad</td>\n",
       "      <td>5/5/2014</td>\n",
       "      <td>League</td>\n",
       "      <td>PV Tambe</td>\n",
       "      <td>Sardar Patel Stadium, Motera</td>\n",
       "      <td>Rajasthan Royals</td>\n",
       "      <td>Kolkata Knight Riders</td>\n",
       "      <td>Kolkata Knight Riders</td>\n",
       "      <td>field</td>\n",
       "      <td>Rajasthan Royals</td>\n",
       "      <td>runs</td>\n",
       "      <td>10.0</td>\n",
       "      <td>171.0</td>\n",
       "      <td>20.0</td>\n",
       "      <td>N</td>\n",
       "      <td>NaN</td>\n",
       "      <td>NJ Llong</td>\n",
       "      <td>CK Nandan</td>\n",
       "    </tr>\n",
       "    <tr>\n",
       "      <th>301</th>\n",
       "      <td>548361</td>\n",
       "      <td>2012</td>\n",
       "      <td>Jaipur</td>\n",
       "      <td>5/10/2012</td>\n",
       "      <td>League</td>\n",
       "      <td>BW Hilfenhaus</td>\n",
       "      <td>Sawai Mansingh Stadium</td>\n",
       "      <td>Rajasthan Royals</td>\n",
       "      <td>Chennai Super Kings</td>\n",
       "      <td>Chennai Super Kings</td>\n",
       "      <td>field</td>\n",
       "      <td>Chennai Super Kings</td>\n",
       "      <td>wickets</td>\n",
       "      <td>4.0</td>\n",
       "      <td>127.0</td>\n",
       "      <td>20.0</td>\n",
       "      <td>N</td>\n",
       "      <td>NaN</td>\n",
       "      <td>BNJ Oxenford</td>\n",
       "      <td>C Shamshuddin</td>\n",
       "    </tr>\n",
       "    <tr>\n",
       "      <th>424</th>\n",
       "      <td>733983</td>\n",
       "      <td>2014</td>\n",
       "      <td>Mumbai</td>\n",
       "      <td>5/6/2014</td>\n",
       "      <td>League</td>\n",
       "      <td>RG Sharma</td>\n",
       "      <td>Wankhede Stadium</td>\n",
       "      <td>Mumbai Indians</td>\n",
       "      <td>Royal Challengers Bangalore</td>\n",
       "      <td>Royal Challengers Bangalore</td>\n",
       "      <td>field</td>\n",
       "      <td>Mumbai Indians</td>\n",
       "      <td>runs</td>\n",
       "      <td>19.0</td>\n",
       "      <td>188.0</td>\n",
       "      <td>20.0</td>\n",
       "      <td>N</td>\n",
       "      <td>NaN</td>\n",
       "      <td>S Ravi</td>\n",
       "      <td>K Srinath</td>\n",
       "    </tr>\n",
       "  </tbody>\n",
       "</table>\n",
       "</div>"
      ],
      "text/plain": [
       "          id season       city       date match_type player_of_match  \\\n",
       "943  1304114   2022     Mumbai  5/20/2022     League        R Ashwin   \n",
       "460   829709   2015       Pune  4/10/2015     League     JP Faulkner   \n",
       "422   733979   2014  Ahmedabad   5/5/2014     League        PV Tambe   \n",
       "301   548361   2012     Jaipur  5/10/2012     League   BW Hilfenhaus   \n",
       "424   733983   2014     Mumbai   5/6/2014     League       RG Sharma   \n",
       "\n",
       "                                       venue                team1  \\\n",
       "943                Brabourne Stadium, Mumbai  Chennai Super Kings   \n",
       "460  Maharashtra Cricket Association Stadium      Kings XI Punjab   \n",
       "422             Sardar Patel Stadium, Motera     Rajasthan Royals   \n",
       "301                   Sawai Mansingh Stadium     Rajasthan Royals   \n",
       "424                         Wankhede Stadium       Mumbai Indians   \n",
       "\n",
       "                           team2                  toss_winner toss_decision  \\\n",
       "943             Rajasthan Royals          Chennai Super Kings           bat   \n",
       "460             Rajasthan Royals              Kings XI Punjab         field   \n",
       "422        Kolkata Knight Riders        Kolkata Knight Riders         field   \n",
       "301          Chennai Super Kings          Chennai Super Kings         field   \n",
       "424  Royal Challengers Bangalore  Royal Challengers Bangalore         field   \n",
       "\n",
       "                  winner   result  result_margin  target_runs  target_overs  \\\n",
       "943     Rajasthan Royals  wickets            5.0        151.0          20.0   \n",
       "460     Rajasthan Royals     runs           26.0        163.0          20.0   \n",
       "422     Rajasthan Royals     runs           10.0        171.0          20.0   \n",
       "301  Chennai Super Kings  wickets            4.0        127.0          20.0   \n",
       "424       Mumbai Indians     runs           19.0        188.0          20.0   \n",
       "\n",
       "    super_over method       umpire1        umpire2  \n",
       "943          N    NaN   CB Gaffaney  NA Patwardhan  \n",
       "460          N    NaN        SD Fry    CB Gaffaney  \n",
       "422          N    NaN      NJ Llong      CK Nandan  \n",
       "301          N    NaN  BNJ Oxenford  C Shamshuddin  \n",
       "424          N    NaN        S Ravi      K Srinath  "
      ]
     },
     "execution_count": 2,
     "metadata": {},
     "output_type": "execute_result"
    }
   ],
   "source": [
    "df = pd.read_csv(\"Data/Matches.csv\")\n",
    "df.sample(5)"
   ]
  },
  {
   "cell_type": "code",
   "execution_count": 3,
   "id": "f637dcbf",
   "metadata": {},
   "outputs": [
    {
     "name": "stdout",
     "output_type": "stream",
     "text": [
      "<class 'pandas.core.frame.DataFrame'>\n",
      "RangeIndex: 1095 entries, 0 to 1094\n",
      "Data columns (total 20 columns):\n",
      " #   Column           Non-Null Count  Dtype  \n",
      "---  ------           --------------  -----  \n",
      " 0   id               1095 non-null   int64  \n",
      " 1   season           1095 non-null   object \n",
      " 2   city             1044 non-null   object \n",
      " 3   date             1095 non-null   object \n",
      " 4   match_type       1095 non-null   object \n",
      " 5   player_of_match  1090 non-null   object \n",
      " 6   venue            1095 non-null   object \n",
      " 7   team1            1095 non-null   object \n",
      " 8   team2            1095 non-null   object \n",
      " 9   toss_winner      1095 non-null   object \n",
      " 10  toss_decision    1095 non-null   object \n",
      " 11  winner           1090 non-null   object \n",
      " 12  result           1095 non-null   object \n",
      " 13  result_margin    1076 non-null   float64\n",
      " 14  target_runs      1092 non-null   float64\n",
      " 15  target_overs     1092 non-null   float64\n",
      " 16  super_over       1095 non-null   object \n",
      " 17  method           21 non-null     object \n",
      " 18  umpire1          1095 non-null   object \n",
      " 19  umpire2          1095 non-null   object \n",
      "dtypes: float64(3), int64(1), object(16)\n",
      "memory usage: 171.2+ KB\n"
     ]
    }
   ],
   "source": [
    "df.info()"
   ]
  },
  {
   "cell_type": "code",
   "execution_count": 4,
   "id": "f3a47c57",
   "metadata": {},
   "outputs": [
    {
     "data": {
      "text/plain": [
       "id                    0\n",
       "season                0\n",
       "city                 51\n",
       "date                  0\n",
       "match_type            0\n",
       "player_of_match       5\n",
       "venue                 0\n",
       "team1                 0\n",
       "team2                 0\n",
       "toss_winner           0\n",
       "toss_decision         0\n",
       "winner                5\n",
       "result                0\n",
       "result_margin        19\n",
       "target_runs           3\n",
       "target_overs          3\n",
       "super_over            0\n",
       "method             1074\n",
       "umpire1               0\n",
       "umpire2               0\n",
       "dtype: int64"
      ]
     },
     "execution_count": 4,
     "metadata": {},
     "output_type": "execute_result"
    }
   ],
   "source": [
    "df.isnull().sum()"
   ]
  },
  {
   "cell_type": "code",
   "execution_count": 5,
   "id": "30ceeb94",
   "metadata": {},
   "outputs": [
    {
     "data": {
      "text/plain": [
       "(1095, 20)"
      ]
     },
     "execution_count": 5,
     "metadata": {},
     "output_type": "execute_result"
    }
   ],
   "source": [
    "df.shape"
   ]
  },
  {
   "cell_type": "code",
   "execution_count": 6,
   "id": "2e2ffd81",
   "metadata": {},
   "outputs": [
    {
     "data": {
      "text/plain": [
       "(1095, 20)"
      ]
     },
     "execution_count": 6,
     "metadata": {},
     "output_type": "execute_result"
    }
   ],
   "source": [
    "df.shape[0] ,df.shape[1]"
   ]
  },
  {
   "cell_type": "code",
   "execution_count": 7,
   "id": "2b85bc41",
   "metadata": {},
   "outputs": [
    {
     "data": {
      "text/html": [
       "<div>\n",
       "<style scoped>\n",
       "    .dataframe tbody tr th:only-of-type {\n",
       "        vertical-align: middle;\n",
       "    }\n",
       "\n",
       "    .dataframe tbody tr th {\n",
       "        vertical-align: top;\n",
       "    }\n",
       "\n",
       "    .dataframe thead th {\n",
       "        text-align: right;\n",
       "    }\n",
       "</style>\n",
       "<table border=\"1\" class=\"dataframe\">\n",
       "  <thead>\n",
       "    <tr style=\"text-align: right;\">\n",
       "      <th></th>\n",
       "      <th>id</th>\n",
       "      <th>result_margin</th>\n",
       "      <th>target_runs</th>\n",
       "      <th>target_overs</th>\n",
       "    </tr>\n",
       "  </thead>\n",
       "  <tbody>\n",
       "    <tr>\n",
       "      <th>count</th>\n",
       "      <td>1.095000e+03</td>\n",
       "      <td>1076.000000</td>\n",
       "      <td>1092.000000</td>\n",
       "      <td>1092.000000</td>\n",
       "    </tr>\n",
       "    <tr>\n",
       "      <th>mean</th>\n",
       "      <td>9.048283e+05</td>\n",
       "      <td>17.259294</td>\n",
       "      <td>165.684066</td>\n",
       "      <td>19.759341</td>\n",
       "    </tr>\n",
       "    <tr>\n",
       "      <th>std</th>\n",
       "      <td>3.677402e+05</td>\n",
       "      <td>21.787444</td>\n",
       "      <td>33.427048</td>\n",
       "      <td>1.581108</td>\n",
       "    </tr>\n",
       "    <tr>\n",
       "      <th>min</th>\n",
       "      <td>3.359820e+05</td>\n",
       "      <td>1.000000</td>\n",
       "      <td>43.000000</td>\n",
       "      <td>5.000000</td>\n",
       "    </tr>\n",
       "    <tr>\n",
       "      <th>25%</th>\n",
       "      <td>5.483315e+05</td>\n",
       "      <td>6.000000</td>\n",
       "      <td>146.000000</td>\n",
       "      <td>20.000000</td>\n",
       "    </tr>\n",
       "    <tr>\n",
       "      <th>50%</th>\n",
       "      <td>9.809610e+05</td>\n",
       "      <td>8.000000</td>\n",
       "      <td>166.000000</td>\n",
       "      <td>20.000000</td>\n",
       "    </tr>\n",
       "    <tr>\n",
       "      <th>75%</th>\n",
       "      <td>1.254062e+06</td>\n",
       "      <td>20.000000</td>\n",
       "      <td>187.000000</td>\n",
       "      <td>20.000000</td>\n",
       "    </tr>\n",
       "    <tr>\n",
       "      <th>max</th>\n",
       "      <td>1.426312e+06</td>\n",
       "      <td>146.000000</td>\n",
       "      <td>288.000000</td>\n",
       "      <td>20.000000</td>\n",
       "    </tr>\n",
       "  </tbody>\n",
       "</table>\n",
       "</div>"
      ],
      "text/plain": [
       "                 id  result_margin  target_runs  target_overs\n",
       "count  1.095000e+03    1076.000000  1092.000000   1092.000000\n",
       "mean   9.048283e+05      17.259294   165.684066     19.759341\n",
       "std    3.677402e+05      21.787444    33.427048      1.581108\n",
       "min    3.359820e+05       1.000000    43.000000      5.000000\n",
       "25%    5.483315e+05       6.000000   146.000000     20.000000\n",
       "50%    9.809610e+05       8.000000   166.000000     20.000000\n",
       "75%    1.254062e+06      20.000000   187.000000     20.000000\n",
       "max    1.426312e+06     146.000000   288.000000     20.000000"
      ]
     },
     "execution_count": 7,
     "metadata": {},
     "output_type": "execute_result"
    }
   ],
   "source": [
    "df.describe()"
   ]
  },
  {
   "cell_type": "code",
   "execution_count": 8,
   "id": "8cb13673",
   "metadata": {},
   "outputs": [
    {
     "data": {
      "text/plain": [
       "26                  Mumbai Indians\n",
       "213                 Mumbai Indians\n",
       "532    Royal Challengers Bangalore\n",
       "945                   Punjab Kings\n",
       "221          Kolkata Knight Riders\n",
       "Name: winner, dtype: object"
      ]
     },
     "execution_count": 8,
     "metadata": {},
     "output_type": "execute_result"
    }
   ],
   "source": [
    "df['winner'].sample(5)"
   ]
  },
  {
   "cell_type": "code",
   "execution_count": 9,
   "id": "b630550e",
   "metadata": {},
   "outputs": [
    {
     "data": {
      "text/html": [
       "<div>\n",
       "<style scoped>\n",
       "    .dataframe tbody tr th:only-of-type {\n",
       "        vertical-align: middle;\n",
       "    }\n",
       "\n",
       "    .dataframe tbody tr th {\n",
       "        vertical-align: top;\n",
       "    }\n",
       "\n",
       "    .dataframe thead th {\n",
       "        text-align: right;\n",
       "    }\n",
       "</style>\n",
       "<table border=\"1\" class=\"dataframe\">\n",
       "  <thead>\n",
       "    <tr style=\"text-align: right;\">\n",
       "      <th></th>\n",
       "      <th>team1</th>\n",
       "      <th>team2</th>\n",
       "      <th>winner</th>\n",
       "    </tr>\n",
       "  </thead>\n",
       "  <tbody>\n",
       "    <tr>\n",
       "      <th>642</th>\n",
       "      <td>Mumbai Indians</td>\n",
       "      <td>Sunrisers Hyderabad</td>\n",
       "      <td>Sunrisers Hyderabad</td>\n",
       "    </tr>\n",
       "    <tr>\n",
       "      <th>712</th>\n",
       "      <td>Royal Challengers Bangalore</td>\n",
       "      <td>Kolkata Knight Riders</td>\n",
       "      <td>Kolkata Knight Riders</td>\n",
       "    </tr>\n",
       "    <tr>\n",
       "      <th>44</th>\n",
       "      <td>Mumbai Indians</td>\n",
       "      <td>Kings XI Punjab</td>\n",
       "      <td>Kings XI Punjab</td>\n",
       "    </tr>\n",
       "    <tr>\n",
       "      <th>748</th>\n",
       "      <td>Rajasthan Royals</td>\n",
       "      <td>Delhi Capitals</td>\n",
       "      <td>Delhi Capitals</td>\n",
       "    </tr>\n",
       "    <tr>\n",
       "      <th>868</th>\n",
       "      <td>Chennai Super Kings</td>\n",
       "      <td>Punjab Kings</td>\n",
       "      <td>Punjab Kings</td>\n",
       "    </tr>\n",
       "  </tbody>\n",
       "</table>\n",
       "</div>"
      ],
      "text/plain": [
       "                           team1                  team2                 winner\n",
       "642               Mumbai Indians    Sunrisers Hyderabad    Sunrisers Hyderabad\n",
       "712  Royal Challengers Bangalore  Kolkata Knight Riders  Kolkata Knight Riders\n",
       "44                Mumbai Indians        Kings XI Punjab        Kings XI Punjab\n",
       "748             Rajasthan Royals         Delhi Capitals         Delhi Capitals\n",
       "868          Chennai Super Kings           Punjab Kings           Punjab Kings"
      ]
     },
     "execution_count": 9,
     "metadata": {},
     "output_type": "execute_result"
    }
   ],
   "source": [
    "df[['team1', 'team2', 'winner']].sample(5)"
   ]
  },
  {
   "cell_type": "code",
   "execution_count": 10,
   "id": "7e086e12",
   "metadata": {},
   "outputs": [
    {
     "data": {
      "text/plain": [
       "id                                                     335983\n",
       "season                                                2007/08\n",
       "city                                               Chandigarh\n",
       "date                                                4/19/2008\n",
       "match_type                                             League\n",
       "player_of_match                                    MEK Hussey\n",
       "venue              Punjab Cricket Association Stadium, Mohali\n",
       "team1                                         Kings XI Punjab\n",
       "team2                                     Chennai Super Kings\n",
       "toss_winner                               Chennai Super Kings\n",
       "toss_decision                                             bat\n",
       "winner                                    Chennai Super Kings\n",
       "result                                                   runs\n",
       "result_margin                                            33.0\n",
       "target_runs                                             241.0\n",
       "target_overs                                             20.0\n",
       "super_over                                                  N\n",
       "method                                                    NaN\n",
       "umpire1                                             MR Benson\n",
       "umpire2                                            SL Shastri\n",
       "Name: 1, dtype: object"
      ]
     },
     "execution_count": 10,
     "metadata": {},
     "output_type": "execute_result"
    }
   ],
   "source": [
    "df.iloc[1]"
   ]
  },
  {
   "cell_type": "code",
   "execution_count": 11,
   "id": "2e1eb43e",
   "metadata": {},
   "outputs": [
    {
     "data": {
      "text/html": [
       "<div>\n",
       "<style scoped>\n",
       "    .dataframe tbody tr th:only-of-type {\n",
       "        vertical-align: middle;\n",
       "    }\n",
       "\n",
       "    .dataframe tbody tr th {\n",
       "        vertical-align: top;\n",
       "    }\n",
       "\n",
       "    .dataframe thead th {\n",
       "        text-align: right;\n",
       "    }\n",
       "</style>\n",
       "<table border=\"1\" class=\"dataframe\">\n",
       "  <thead>\n",
       "    <tr style=\"text-align: right;\">\n",
       "      <th></th>\n",
       "      <th>id</th>\n",
       "      <th>season</th>\n",
       "      <th>city</th>\n",
       "      <th>date</th>\n",
       "      <th>match_type</th>\n",
       "      <th>player_of_match</th>\n",
       "      <th>venue</th>\n",
       "      <th>team1</th>\n",
       "      <th>team2</th>\n",
       "      <th>toss_winner</th>\n",
       "      <th>toss_decision</th>\n",
       "      <th>winner</th>\n",
       "      <th>result</th>\n",
       "      <th>result_margin</th>\n",
       "      <th>target_runs</th>\n",
       "      <th>target_overs</th>\n",
       "      <th>super_over</th>\n",
       "      <th>method</th>\n",
       "      <th>umpire1</th>\n",
       "      <th>umpire2</th>\n",
       "    </tr>\n",
       "  </thead>\n",
       "  <tbody>\n",
       "    <tr>\n",
       "      <th>1</th>\n",
       "      <td>335983</td>\n",
       "      <td>2007/08</td>\n",
       "      <td>Chandigarh</td>\n",
       "      <td>4/19/2008</td>\n",
       "      <td>League</td>\n",
       "      <td>MEK Hussey</td>\n",
       "      <td>Punjab Cricket Association Stadium, Mohali</td>\n",
       "      <td>Kings XI Punjab</td>\n",
       "      <td>Chennai Super Kings</td>\n",
       "      <td>Chennai Super Kings</td>\n",
       "      <td>bat</td>\n",
       "      <td>Chennai Super Kings</td>\n",
       "      <td>runs</td>\n",
       "      <td>33.0</td>\n",
       "      <td>241.0</td>\n",
       "      <td>20.0</td>\n",
       "      <td>N</td>\n",
       "      <td>NaN</td>\n",
       "      <td>MR Benson</td>\n",
       "      <td>SL Shastri</td>\n",
       "    </tr>\n",
       "    <tr>\n",
       "      <th>2</th>\n",
       "      <td>335984</td>\n",
       "      <td>2007/08</td>\n",
       "      <td>Delhi</td>\n",
       "      <td>4/19/2008</td>\n",
       "      <td>League</td>\n",
       "      <td>MF Maharoof</td>\n",
       "      <td>Feroz Shah Kotla</td>\n",
       "      <td>Delhi Daredevils</td>\n",
       "      <td>Rajasthan Royals</td>\n",
       "      <td>Rajasthan Royals</td>\n",
       "      <td>bat</td>\n",
       "      <td>Delhi Daredevils</td>\n",
       "      <td>wickets</td>\n",
       "      <td>9.0</td>\n",
       "      <td>130.0</td>\n",
       "      <td>20.0</td>\n",
       "      <td>N</td>\n",
       "      <td>NaN</td>\n",
       "      <td>Aleem Dar</td>\n",
       "      <td>GA Pratapkumar</td>\n",
       "    </tr>\n",
       "    <tr>\n",
       "      <th>3</th>\n",
       "      <td>335985</td>\n",
       "      <td>2007/08</td>\n",
       "      <td>Mumbai</td>\n",
       "      <td>4/20/2008</td>\n",
       "      <td>League</td>\n",
       "      <td>MV Boucher</td>\n",
       "      <td>Wankhede Stadium</td>\n",
       "      <td>Mumbai Indians</td>\n",
       "      <td>Royal Challengers Bangalore</td>\n",
       "      <td>Mumbai Indians</td>\n",
       "      <td>bat</td>\n",
       "      <td>Royal Challengers Bangalore</td>\n",
       "      <td>wickets</td>\n",
       "      <td>5.0</td>\n",
       "      <td>166.0</td>\n",
       "      <td>20.0</td>\n",
       "      <td>N</td>\n",
       "      <td>NaN</td>\n",
       "      <td>SJ Davis</td>\n",
       "      <td>DJ Harper</td>\n",
       "    </tr>\n",
       "  </tbody>\n",
       "</table>\n",
       "</div>"
      ],
      "text/plain": [
       "       id   season        city       date match_type player_of_match  \\\n",
       "1  335983  2007/08  Chandigarh  4/19/2008     League      MEK Hussey   \n",
       "2  335984  2007/08       Delhi  4/19/2008     League     MF Maharoof   \n",
       "3  335985  2007/08      Mumbai  4/20/2008     League      MV Boucher   \n",
       "\n",
       "                                        venue             team1  \\\n",
       "1  Punjab Cricket Association Stadium, Mohali   Kings XI Punjab   \n",
       "2                            Feroz Shah Kotla  Delhi Daredevils   \n",
       "3                            Wankhede Stadium    Mumbai Indians   \n",
       "\n",
       "                         team2          toss_winner toss_decision  \\\n",
       "1          Chennai Super Kings  Chennai Super Kings           bat   \n",
       "2             Rajasthan Royals     Rajasthan Royals           bat   \n",
       "3  Royal Challengers Bangalore       Mumbai Indians           bat   \n",
       "\n",
       "                        winner   result  result_margin  target_runs  \\\n",
       "1          Chennai Super Kings     runs           33.0        241.0   \n",
       "2             Delhi Daredevils  wickets            9.0        130.0   \n",
       "3  Royal Challengers Bangalore  wickets            5.0        166.0   \n",
       "\n",
       "   target_overs super_over method    umpire1         umpire2  \n",
       "1          20.0          N    NaN  MR Benson      SL Shastri  \n",
       "2          20.0          N    NaN  Aleem Dar  GA Pratapkumar  \n",
       "3          20.0          N    NaN   SJ Davis       DJ Harper  "
      ]
     },
     "execution_count": 11,
     "metadata": {},
     "output_type": "execute_result"
    }
   ],
   "source": [
    "df.iloc[1:4]"
   ]
  },
  {
   "cell_type": "code",
   "execution_count": 12,
   "id": "4ed5e044",
   "metadata": {},
   "outputs": [
    {
     "data": {
      "text/html": [
       "<div>\n",
       "<style scoped>\n",
       "    .dataframe tbody tr th:only-of-type {\n",
       "        vertical-align: middle;\n",
       "    }\n",
       "\n",
       "    .dataframe tbody tr th {\n",
       "        vertical-align: top;\n",
       "    }\n",
       "\n",
       "    .dataframe thead th {\n",
       "        text-align: right;\n",
       "    }\n",
       "</style>\n",
       "<table border=\"1\" class=\"dataframe\">\n",
       "  <thead>\n",
       "    <tr style=\"text-align: right;\">\n",
       "      <th></th>\n",
       "      <th>id</th>\n",
       "      <th>season</th>\n",
       "      <th>city</th>\n",
       "      <th>date</th>\n",
       "      <th>match_type</th>\n",
       "      <th>player_of_match</th>\n",
       "      <th>venue</th>\n",
       "      <th>team1</th>\n",
       "      <th>team2</th>\n",
       "      <th>toss_winner</th>\n",
       "      <th>toss_decision</th>\n",
       "      <th>winner</th>\n",
       "      <th>result</th>\n",
       "      <th>result_margin</th>\n",
       "      <th>target_runs</th>\n",
       "      <th>target_overs</th>\n",
       "      <th>super_over</th>\n",
       "      <th>method</th>\n",
       "      <th>umpire1</th>\n",
       "      <th>umpire2</th>\n",
       "    </tr>\n",
       "  </thead>\n",
       "  <tbody>\n",
       "    <tr>\n",
       "      <th>1</th>\n",
       "      <td>335983</td>\n",
       "      <td>2007/08</td>\n",
       "      <td>Chandigarh</td>\n",
       "      <td>4/19/2008</td>\n",
       "      <td>League</td>\n",
       "      <td>MEK Hussey</td>\n",
       "      <td>Punjab Cricket Association Stadium, Mohali</td>\n",
       "      <td>Kings XI Punjab</td>\n",
       "      <td>Chennai Super Kings</td>\n",
       "      <td>Chennai Super Kings</td>\n",
       "      <td>bat</td>\n",
       "      <td>Chennai Super Kings</td>\n",
       "      <td>runs</td>\n",
       "      <td>33.0</td>\n",
       "      <td>241.0</td>\n",
       "      <td>20.0</td>\n",
       "      <td>N</td>\n",
       "      <td>NaN</td>\n",
       "      <td>MR Benson</td>\n",
       "      <td>SL Shastri</td>\n",
       "    </tr>\n",
       "    <tr>\n",
       "      <th>3</th>\n",
       "      <td>335985</td>\n",
       "      <td>2007/08</td>\n",
       "      <td>Mumbai</td>\n",
       "      <td>4/20/2008</td>\n",
       "      <td>League</td>\n",
       "      <td>MV Boucher</td>\n",
       "      <td>Wankhede Stadium</td>\n",
       "      <td>Mumbai Indians</td>\n",
       "      <td>Royal Challengers Bangalore</td>\n",
       "      <td>Mumbai Indians</td>\n",
       "      <td>bat</td>\n",
       "      <td>Royal Challengers Bangalore</td>\n",
       "      <td>wickets</td>\n",
       "      <td>5.0</td>\n",
       "      <td>166.0</td>\n",
       "      <td>20.0</td>\n",
       "      <td>N</td>\n",
       "      <td>NaN</td>\n",
       "      <td>SJ Davis</td>\n",
       "      <td>DJ Harper</td>\n",
       "    </tr>\n",
       "    <tr>\n",
       "      <th>5</th>\n",
       "      <td>335987</td>\n",
       "      <td>2007/08</td>\n",
       "      <td>Jaipur</td>\n",
       "      <td>4/21/2008</td>\n",
       "      <td>League</td>\n",
       "      <td>SR Watson</td>\n",
       "      <td>Sawai Mansingh Stadium</td>\n",
       "      <td>Rajasthan Royals</td>\n",
       "      <td>Kings XI Punjab</td>\n",
       "      <td>Kings XI Punjab</td>\n",
       "      <td>bat</td>\n",
       "      <td>Rajasthan Royals</td>\n",
       "      <td>wickets</td>\n",
       "      <td>6.0</td>\n",
       "      <td>167.0</td>\n",
       "      <td>20.0</td>\n",
       "      <td>N</td>\n",
       "      <td>NaN</td>\n",
       "      <td>Aleem Dar</td>\n",
       "      <td>RB Tiffin</td>\n",
       "    </tr>\n",
       "    <tr>\n",
       "      <th>7</th>\n",
       "      <td>335989</td>\n",
       "      <td>2007/08</td>\n",
       "      <td>Chennai</td>\n",
       "      <td>4/23/2008</td>\n",
       "      <td>League</td>\n",
       "      <td>ML Hayden</td>\n",
       "      <td>MA Chidambaram Stadium, Chepauk</td>\n",
       "      <td>Chennai Super Kings</td>\n",
       "      <td>Mumbai Indians</td>\n",
       "      <td>Mumbai Indians</td>\n",
       "      <td>field</td>\n",
       "      <td>Chennai Super Kings</td>\n",
       "      <td>runs</td>\n",
       "      <td>6.0</td>\n",
       "      <td>209.0</td>\n",
       "      <td>20.0</td>\n",
       "      <td>N</td>\n",
       "      <td>NaN</td>\n",
       "      <td>DJ Harper</td>\n",
       "      <td>GA Pratapkumar</td>\n",
       "    </tr>\n",
       "    <tr>\n",
       "      <th>9</th>\n",
       "      <td>335991</td>\n",
       "      <td>2007/08</td>\n",
       "      <td>Chandigarh</td>\n",
       "      <td>4/25/2008</td>\n",
       "      <td>League</td>\n",
       "      <td>KC Sangakkara</td>\n",
       "      <td>Punjab Cricket Association Stadium, Mohali</td>\n",
       "      <td>Kings XI Punjab</td>\n",
       "      <td>Mumbai Indians</td>\n",
       "      <td>Mumbai Indians</td>\n",
       "      <td>field</td>\n",
       "      <td>Kings XI Punjab</td>\n",
       "      <td>runs</td>\n",
       "      <td>66.0</td>\n",
       "      <td>183.0</td>\n",
       "      <td>20.0</td>\n",
       "      <td>N</td>\n",
       "      <td>NaN</td>\n",
       "      <td>Aleem Dar</td>\n",
       "      <td>AM Saheba</td>\n",
       "    </tr>\n",
       "  </tbody>\n",
       "</table>\n",
       "</div>"
      ],
      "text/plain": [
       "       id   season        city       date match_type player_of_match  \\\n",
       "1  335983  2007/08  Chandigarh  4/19/2008     League      MEK Hussey   \n",
       "3  335985  2007/08      Mumbai  4/20/2008     League      MV Boucher   \n",
       "5  335987  2007/08      Jaipur  4/21/2008     League       SR Watson   \n",
       "7  335989  2007/08     Chennai  4/23/2008     League       ML Hayden   \n",
       "9  335991  2007/08  Chandigarh  4/25/2008     League   KC Sangakkara   \n",
       "\n",
       "                                        venue                team1  \\\n",
       "1  Punjab Cricket Association Stadium, Mohali      Kings XI Punjab   \n",
       "3                            Wankhede Stadium       Mumbai Indians   \n",
       "5                      Sawai Mansingh Stadium     Rajasthan Royals   \n",
       "7             MA Chidambaram Stadium, Chepauk  Chennai Super Kings   \n",
       "9  Punjab Cricket Association Stadium, Mohali      Kings XI Punjab   \n",
       "\n",
       "                         team2          toss_winner toss_decision  \\\n",
       "1          Chennai Super Kings  Chennai Super Kings           bat   \n",
       "3  Royal Challengers Bangalore       Mumbai Indians           bat   \n",
       "5              Kings XI Punjab      Kings XI Punjab           bat   \n",
       "7               Mumbai Indians       Mumbai Indians         field   \n",
       "9               Mumbai Indians       Mumbai Indians         field   \n",
       "\n",
       "                        winner   result  result_margin  target_runs  \\\n",
       "1          Chennai Super Kings     runs           33.0        241.0   \n",
       "3  Royal Challengers Bangalore  wickets            5.0        166.0   \n",
       "5             Rajasthan Royals  wickets            6.0        167.0   \n",
       "7          Chennai Super Kings     runs            6.0        209.0   \n",
       "9              Kings XI Punjab     runs           66.0        183.0   \n",
       "\n",
       "   target_overs super_over method    umpire1         umpire2  \n",
       "1          20.0          N    NaN  MR Benson      SL Shastri  \n",
       "3          20.0          N    NaN   SJ Davis       DJ Harper  \n",
       "5          20.0          N    NaN  Aleem Dar       RB Tiffin  \n",
       "7          20.0          N    NaN  DJ Harper  GA Pratapkumar  \n",
       "9          20.0          N    NaN  Aleem Dar       AM Saheba  "
      ]
     },
     "execution_count": 12,
     "metadata": {},
     "output_type": "execute_result"
    }
   ],
   "source": [
    "df.iloc[1:11:2]"
   ]
  },
  {
   "cell_type": "code",
   "execution_count": 13,
   "id": "c7f0dbaf",
   "metadata": {},
   "outputs": [
    {
     "data": {
      "text/html": [
       "<div>\n",
       "<style scoped>\n",
       "    .dataframe tbody tr th:only-of-type {\n",
       "        vertical-align: middle;\n",
       "    }\n",
       "\n",
       "    .dataframe tbody tr th {\n",
       "        vertical-align: top;\n",
       "    }\n",
       "\n",
       "    .dataframe thead th {\n",
       "        text-align: right;\n",
       "    }\n",
       "</style>\n",
       "<table border=\"1\" class=\"dataframe\">\n",
       "  <thead>\n",
       "    <tr style=\"text-align: right;\">\n",
       "      <th></th>\n",
       "      <th>match_type</th>\n",
       "      <th>player_of_match</th>\n",
       "      <th>toss_decision</th>\n",
       "    </tr>\n",
       "  </thead>\n",
       "  <tbody>\n",
       "    <tr>\n",
       "      <th>0</th>\n",
       "      <td>League</td>\n",
       "      <td>BB McCullum</td>\n",
       "      <td>field</td>\n",
       "    </tr>\n",
       "    <tr>\n",
       "      <th>1</th>\n",
       "      <td>League</td>\n",
       "      <td>MEK Hussey</td>\n",
       "      <td>bat</td>\n",
       "    </tr>\n",
       "    <tr>\n",
       "      <th>2</th>\n",
       "      <td>League</td>\n",
       "      <td>MF Maharoof</td>\n",
       "      <td>bat</td>\n",
       "    </tr>\n",
       "    <tr>\n",
       "      <th>3</th>\n",
       "      <td>League</td>\n",
       "      <td>MV Boucher</td>\n",
       "      <td>bat</td>\n",
       "    </tr>\n",
       "    <tr>\n",
       "      <th>4</th>\n",
       "      <td>League</td>\n",
       "      <td>DJ Hussey</td>\n",
       "      <td>bat</td>\n",
       "    </tr>\n",
       "    <tr>\n",
       "      <th>...</th>\n",
       "      <td>...</td>\n",
       "      <td>...</td>\n",
       "      <td>...</td>\n",
       "    </tr>\n",
       "    <tr>\n",
       "      <th>1090</th>\n",
       "      <td>League</td>\n",
       "      <td>Abhishek Sharma</td>\n",
       "      <td>bat</td>\n",
       "    </tr>\n",
       "    <tr>\n",
       "      <th>1091</th>\n",
       "      <td>Qualifier 1</td>\n",
       "      <td>MA Starc</td>\n",
       "      <td>bat</td>\n",
       "    </tr>\n",
       "    <tr>\n",
       "      <th>1092</th>\n",
       "      <td>Eliminator</td>\n",
       "      <td>R Ashwin</td>\n",
       "      <td>field</td>\n",
       "    </tr>\n",
       "    <tr>\n",
       "      <th>1093</th>\n",
       "      <td>Qualifier 2</td>\n",
       "      <td>Shahbaz Ahmed</td>\n",
       "      <td>field</td>\n",
       "    </tr>\n",
       "    <tr>\n",
       "      <th>1094</th>\n",
       "      <td>Final</td>\n",
       "      <td>MA Starc</td>\n",
       "      <td>bat</td>\n",
       "    </tr>\n",
       "  </tbody>\n",
       "</table>\n",
       "<p>1095 rows × 3 columns</p>\n",
       "</div>"
      ],
      "text/plain": [
       "       match_type  player_of_match toss_decision\n",
       "0          League      BB McCullum         field\n",
       "1          League       MEK Hussey           bat\n",
       "2          League      MF Maharoof           bat\n",
       "3          League       MV Boucher           bat\n",
       "4          League        DJ Hussey           bat\n",
       "...           ...              ...           ...\n",
       "1090       League  Abhishek Sharma           bat\n",
       "1091  Qualifier 1         MA Starc           bat\n",
       "1092   Eliminator         R Ashwin         field\n",
       "1093  Qualifier 2    Shahbaz Ahmed         field\n",
       "1094        Final         MA Starc           bat\n",
       "\n",
       "[1095 rows x 3 columns]"
      ]
     },
     "execution_count": 13,
     "metadata": {},
     "output_type": "execute_result"
    }
   ],
   "source": [
    "df.iloc[:,[4,5,10]]"
   ]
  },
  {
   "cell_type": "code",
   "execution_count": 14,
   "id": "7ba67a99",
   "metadata": {},
   "outputs": [
    {
     "data": {
      "text/plain": [
       "0       False\n",
       "1       False\n",
       "2       False\n",
       "3       False\n",
       "4       False\n",
       "        ...  \n",
       "1090     True\n",
       "1091    False\n",
       "1092    False\n",
       "1093    False\n",
       "1094    False\n",
       "Name: city, Length: 1095, dtype: bool"
      ]
     },
     "execution_count": 14,
     "metadata": {},
     "output_type": "execute_result"
    }
   ],
   "source": [
    "marks = df['city']=='Hyderabad'\n",
    "marks"
   ]
  },
  {
   "cell_type": "code",
   "execution_count": 15,
   "id": "f1aea273",
   "metadata": {},
   "outputs": [],
   "source": [
    "def get_city_count(city):\n",
    "    marks = df['city'] == city\n",
    "    return df[marks].shape[0]\n"
   ]
  },
  {
   "cell_type": "code",
   "execution_count": 16,
   "id": "1f339f18",
   "metadata": {},
   "outputs": [
    {
     "data": {
      "text/plain": [
       "173"
      ]
     },
     "execution_count": 16,
     "metadata": {},
     "output_type": "execute_result"
    }
   ],
   "source": [
    "get_city_count('Mumbai')"
   ]
  },
  {
   "cell_type": "code",
   "execution_count": 17,
   "id": "a595d3f4",
   "metadata": {},
   "outputs": [
    {
     "data": {
      "text/plain": [
       "10"
      ]
     },
     "execution_count": 17,
     "metadata": {},
     "output_type": "execute_result"
    }
   ],
   "source": [
    "mask1 = df['city'] == 'Rajkot'\n",
    "mask2 = df['date']> '2015-01-01'\n",
    "df[mask1 & mask2].shape[0]"
   ]
  },
  {
   "cell_type": "code",
   "execution_count": 18,
   "id": "a26d44dd",
   "metadata": {},
   "outputs": [
    {
     "name": "stdout",
     "output_type": "stream",
     "text": [
      "<class 'pandas.core.frame.DataFrame'>\n",
      "RangeIndex: 1095 entries, 0 to 1094\n",
      "Data columns (total 20 columns):\n",
      " #   Column           Non-Null Count  Dtype  \n",
      "---  ------           --------------  -----  \n",
      " 0   id               1095 non-null   int64  \n",
      " 1   season           1095 non-null   object \n",
      " 2   city             1044 non-null   object \n",
      " 3   date             1095 non-null   object \n",
      " 4   match_type       1095 non-null   object \n",
      " 5   player_of_match  1090 non-null   object \n",
      " 6   venue            1095 non-null   object \n",
      " 7   team1            1095 non-null   object \n",
      " 8   team2            1095 non-null   object \n",
      " 9   toss_winner      1095 non-null   object \n",
      " 10  toss_decision    1095 non-null   object \n",
      " 11  winner           1090 non-null   object \n",
      " 12  result           1095 non-null   object \n",
      " 13  result_margin    1076 non-null   float64\n",
      " 14  target_runs      1092 non-null   float64\n",
      " 15  target_overs     1092 non-null   float64\n",
      " 16  super_over       1095 non-null   object \n",
      " 17  method           21 non-null     object \n",
      " 18  umpire1          1095 non-null   object \n",
      " 19  umpire2          1095 non-null   object \n",
      "dtypes: float64(3), int64(1), object(16)\n",
      "memory usage: 171.2+ KB\n"
     ]
    }
   ],
   "source": [
    "df.info()"
   ]
  },
  {
   "cell_type": "code",
   "execution_count": 19,
   "id": "c052ed7f",
   "metadata": {},
   "outputs": [
    {
     "name": "stderr",
     "output_type": "stream",
     "text": [
      "C:\\Users\\kapil\\AppData\\Local\\Temp\\ipykernel_4516\\3045644753.py:1: FutureWarning: A value is trying to be set on a copy of a DataFrame or Series through chained assignment using an inplace method.\n",
      "The behavior will change in pandas 3.0. This inplace method will never work because the intermediate object on which we are setting values always behaves as a copy.\n",
      "\n",
      "For example, when doing 'df[col].method(value, inplace=True)', try using 'df.method({col: value}, inplace=True)' or df[col] = df[col].method(value) instead, to perform the operation inplace on the original object.\n",
      "\n",
      "\n",
      "  df['city'].fillna(method='ffill', inplace=True)\n",
      "C:\\Users\\kapil\\AppData\\Local\\Temp\\ipykernel_4516\\3045644753.py:1: FutureWarning: Series.fillna with 'method' is deprecated and will raise in a future version. Use obj.ffill() or obj.bfill() instead.\n",
      "  df['city'].fillna(method='ffill', inplace=True)\n"
     ]
    }
   ],
   "source": [
    "df['city'].fillna(method='ffill', inplace=True)"
   ]
  },
  {
   "cell_type": "code",
   "execution_count": 20,
   "id": "5083c6de",
   "metadata": {},
   "outputs": [
    {
     "name": "stderr",
     "output_type": "stream",
     "text": [
      "C:\\Users\\kapil\\AppData\\Local\\Temp\\ipykernel_4516\\2876561577.py:1: FutureWarning: A value is trying to be set on a copy of a DataFrame or Series through chained assignment using an inplace method.\n",
      "The behavior will change in pandas 3.0. This inplace method will never work because the intermediate object on which we are setting values always behaves as a copy.\n",
      "\n",
      "For example, when doing 'df[col].method(value, inplace=True)', try using 'df.method({col: value}, inplace=True)' or df[col] = df[col].method(value) instead, to perform the operation inplace on the original object.\n",
      "\n",
      "\n",
      "  df['winner'].fillna(method='ffill', inplace=True)\n",
      "C:\\Users\\kapil\\AppData\\Local\\Temp\\ipykernel_4516\\2876561577.py:1: FutureWarning: Series.fillna with 'method' is deprecated and will raise in a future version. Use obj.ffill() or obj.bfill() instead.\n",
      "  df['winner'].fillna(method='ffill', inplace=True)\n"
     ]
    },
    {
     "data": {
      "text/plain": [
       "id                    0\n",
       "season                0\n",
       "city                  0\n",
       "date                  0\n",
       "match_type            0\n",
       "player_of_match       5\n",
       "venue                 0\n",
       "team1                 0\n",
       "team2                 0\n",
       "toss_winner           0\n",
       "toss_decision         0\n",
       "winner                0\n",
       "result                0\n",
       "result_margin        19\n",
       "target_runs           3\n",
       "target_overs          3\n",
       "super_over            0\n",
       "method             1074\n",
       "umpire1               0\n",
       "umpire2               0\n",
       "dtype: int64"
      ]
     },
     "execution_count": 20,
     "metadata": {},
     "output_type": "execute_result"
    }
   ],
   "source": [
    "df['winner'].fillna(method='ffill', inplace=True)\n",
    "df.isnull().sum()"
   ]
  },
  {
   "cell_type": "code",
   "execution_count": 21,
   "id": "d69a7bab",
   "metadata": {},
   "outputs": [
    {
     "name": "stderr",
     "output_type": "stream",
     "text": [
      "C:\\Users\\kapil\\AppData\\Local\\Temp\\ipykernel_4516\\1400523361.py:2: FutureWarning: A value is trying to be set on a copy of a DataFrame or Series through chained assignment using an inplace method.\n",
      "The behavior will change in pandas 3.0. This inplace method will never work because the intermediate object on which we are setting values always behaves as a copy.\n",
      "\n",
      "For example, when doing 'df[col].method(value, inplace=True)', try using 'df.method({col: value}, inplace=True)' or df[col] = df[col].method(value) instead, to perform the operation inplace on the original object.\n",
      "\n",
      "\n",
      "  df['player_of_match'].fillna(mode_value, inplace=True)\n"
     ]
    }
   ],
   "source": [
    "mode_value = df['player_of_match'].mode()[0]\n",
    "df['player_of_match'].fillna(mode_value, inplace=True)"
   ]
  },
  {
   "cell_type": "code",
   "execution_count": 22,
   "id": "26485a8e",
   "metadata": {},
   "outputs": [
    {
     "data": {
      "text/plain": [
       "101     6.0\n",
       "897    23.0\n",
       "298    25.0\n",
       "746     NaN\n",
       "657     4.0\n",
       "Name: result_margin, dtype: float64"
      ]
     },
     "execution_count": 22,
     "metadata": {},
     "output_type": "execute_result"
    }
   ],
   "source": [
    "df['result_margin'].sample(5)"
   ]
  },
  {
   "cell_type": "code",
   "execution_count": 23,
   "id": "e951755f",
   "metadata": {},
   "outputs": [
    {
     "name": "stderr",
     "output_type": "stream",
     "text": [
      "C:\\Users\\kapil\\AppData\\Local\\Temp\\ipykernel_4516\\253035096.py:2: FutureWarning: A value is trying to be set on a copy of a DataFrame or Series through chained assignment using an inplace method.\n",
      "The behavior will change in pandas 3.0. This inplace method will never work because the intermediate object on which we are setting values always behaves as a copy.\n",
      "\n",
      "For example, when doing 'df[col].method(value, inplace=True)', try using 'df.method({col: value}, inplace=True)' or df[col] = df[col].method(value) instead, to perform the operation inplace on the original object.\n",
      "\n",
      "\n",
      "  df['result_margin'].fillna(mode, inplace=True)\n"
     ]
    }
   ],
   "source": [
    "mode=df['result_margin'].mode()[0]\n",
    "df['result_margin'].fillna(mode, inplace=True)"
   ]
  },
  {
   "cell_type": "code",
   "execution_count": 24,
   "id": "834c3a2c",
   "metadata": {},
   "outputs": [
    {
     "data": {
      "text/html": [
       "<div>\n",
       "<style scoped>\n",
       "    .dataframe tbody tr th:only-of-type {\n",
       "        vertical-align: middle;\n",
       "    }\n",
       "\n",
       "    .dataframe tbody tr th {\n",
       "        vertical-align: top;\n",
       "    }\n",
       "\n",
       "    .dataframe thead th {\n",
       "        text-align: right;\n",
       "    }\n",
       "</style>\n",
       "<table border=\"1\" class=\"dataframe\">\n",
       "  <thead>\n",
       "    <tr style=\"text-align: right;\">\n",
       "      <th></th>\n",
       "      <th>id</th>\n",
       "      <th>season</th>\n",
       "      <th>city</th>\n",
       "      <th>date</th>\n",
       "      <th>match_type</th>\n",
       "      <th>player_of_match</th>\n",
       "      <th>venue</th>\n",
       "      <th>team1</th>\n",
       "      <th>team2</th>\n",
       "      <th>toss_winner</th>\n",
       "      <th>toss_decision</th>\n",
       "      <th>winner</th>\n",
       "      <th>result</th>\n",
       "      <th>result_margin</th>\n",
       "      <th>target_runs</th>\n",
       "      <th>target_overs</th>\n",
       "      <th>super_over</th>\n",
       "      <th>method</th>\n",
       "      <th>umpire1</th>\n",
       "      <th>umpire2</th>\n",
       "    </tr>\n",
       "  </thead>\n",
       "  <tbody>\n",
       "    <tr>\n",
       "      <th>176</th>\n",
       "      <td>501199</td>\n",
       "      <td>2011</td>\n",
       "      <td>Hyderabad</td>\n",
       "      <td>4/9/2011</td>\n",
       "      <td>League</td>\n",
       "      <td>SK Trivedi</td>\n",
       "      <td>Rajiv Gandhi International Stadium, Uppal</td>\n",
       "      <td>Deccan Chargers</td>\n",
       "      <td>Rajasthan Royals</td>\n",
       "      <td>Rajasthan Royals</td>\n",
       "      <td>field</td>\n",
       "      <td>Rajasthan Royals</td>\n",
       "      <td>wickets</td>\n",
       "      <td>8.0</td>\n",
       "      <td>138.0</td>\n",
       "      <td>20.0</td>\n",
       "      <td>N</td>\n",
       "      <td>NaN</td>\n",
       "      <td>RE Koertzen</td>\n",
       "      <td>SK Tarapore</td>\n",
       "    </tr>\n",
       "    <tr>\n",
       "      <th>82</th>\n",
       "      <td>392207</td>\n",
       "      <td>2009</td>\n",
       "      <td>Port Elizabeth</td>\n",
       "      <td>5/3/2009</td>\n",
       "      <td>League</td>\n",
       "      <td>DPMD Jayawardene</td>\n",
       "      <td>St George's Park</td>\n",
       "      <td>Kings XI Punjab</td>\n",
       "      <td>Kolkata Knight Riders</td>\n",
       "      <td>Kolkata Knight Riders</td>\n",
       "      <td>bat</td>\n",
       "      <td>Kings XI Punjab</td>\n",
       "      <td>wickets</td>\n",
       "      <td>6.0</td>\n",
       "      <td>154.0</td>\n",
       "      <td>20.0</td>\n",
       "      <td>N</td>\n",
       "      <td>NaN</td>\n",
       "      <td>S Asnani</td>\n",
       "      <td>MR Benson</td>\n",
       "    </tr>\n",
       "    <tr>\n",
       "      <th>415</th>\n",
       "      <td>729313</td>\n",
       "      <td>2014</td>\n",
       "      <td>NaN</td>\n",
       "      <td>4/28/2014</td>\n",
       "      <td>League</td>\n",
       "      <td>Sandeep Sharma</td>\n",
       "      <td>Dubai International Cricket Stadium</td>\n",
       "      <td>Kings XI Punjab</td>\n",
       "      <td>Royal Challengers Bangalore</td>\n",
       "      <td>Kings XI Punjab</td>\n",
       "      <td>field</td>\n",
       "      <td>Kings XI Punjab</td>\n",
       "      <td>wickets</td>\n",
       "      <td>5.0</td>\n",
       "      <td>125.0</td>\n",
       "      <td>20.0</td>\n",
       "      <td>N</td>\n",
       "      <td>NaN</td>\n",
       "      <td>BF Bowden</td>\n",
       "      <td>S Ravi</td>\n",
       "    </tr>\n",
       "    <tr>\n",
       "      <th>1044</th>\n",
       "      <td>1422139</td>\n",
       "      <td>2024</td>\n",
       "      <td>Lucknow</td>\n",
       "      <td>4/7/2024</td>\n",
       "      <td>League</td>\n",
       "      <td>Yash Thakur</td>\n",
       "      <td>Bharat Ratna Shri Atal Bihari Vajpayee Ekana C...</td>\n",
       "      <td>Lucknow Super Giants</td>\n",
       "      <td>Gujarat Titans</td>\n",
       "      <td>Lucknow Super Giants</td>\n",
       "      <td>bat</td>\n",
       "      <td>Lucknow Super Giants</td>\n",
       "      <td>runs</td>\n",
       "      <td>33.0</td>\n",
       "      <td>164.0</td>\n",
       "      <td>20.0</td>\n",
       "      <td>N</td>\n",
       "      <td>NaN</td>\n",
       "      <td>A Nand Kishore</td>\n",
       "      <td>VK Sharma</td>\n",
       "    </tr>\n",
       "    <tr>\n",
       "      <th>993</th>\n",
       "      <td>1359518</td>\n",
       "      <td>2023</td>\n",
       "      <td>Ahmedabad</td>\n",
       "      <td>5/2/2023</td>\n",
       "      <td>League</td>\n",
       "      <td>Mohammed Shami</td>\n",
       "      <td>Narendra Modi Stadium, Ahmedabad</td>\n",
       "      <td>Delhi Capitals</td>\n",
       "      <td>Gujarat Titans</td>\n",
       "      <td>Delhi Capitals</td>\n",
       "      <td>bat</td>\n",
       "      <td>Delhi Capitals</td>\n",
       "      <td>runs</td>\n",
       "      <td>5.0</td>\n",
       "      <td>131.0</td>\n",
       "      <td>20.0</td>\n",
       "      <td>N</td>\n",
       "      <td>NaN</td>\n",
       "      <td>MA Gough</td>\n",
       "      <td>R Pandit</td>\n",
       "    </tr>\n",
       "  </tbody>\n",
       "</table>\n",
       "</div>"
      ],
      "text/plain": [
       "           id season            city       date match_type   player_of_match  \\\n",
       "176    501199   2011       Hyderabad   4/9/2011     League        SK Trivedi   \n",
       "82     392207   2009  Port Elizabeth   5/3/2009     League  DPMD Jayawardene   \n",
       "415    729313   2014             NaN  4/28/2014     League    Sandeep Sharma   \n",
       "1044  1422139   2024         Lucknow   4/7/2024     League       Yash Thakur   \n",
       "993   1359518   2023       Ahmedabad   5/2/2023     League    Mohammed Shami   \n",
       "\n",
       "                                                  venue                 team1  \\\n",
       "176           Rajiv Gandhi International Stadium, Uppal       Deccan Chargers   \n",
       "82                                     St George's Park       Kings XI Punjab   \n",
       "415                 Dubai International Cricket Stadium       Kings XI Punjab   \n",
       "1044  Bharat Ratna Shri Atal Bihari Vajpayee Ekana C...  Lucknow Super Giants   \n",
       "993                    Narendra Modi Stadium, Ahmedabad        Delhi Capitals   \n",
       "\n",
       "                            team2            toss_winner toss_decision  \\\n",
       "176              Rajasthan Royals       Rajasthan Royals         field   \n",
       "82          Kolkata Knight Riders  Kolkata Knight Riders           bat   \n",
       "415   Royal Challengers Bangalore        Kings XI Punjab         field   \n",
       "1044               Gujarat Titans   Lucknow Super Giants           bat   \n",
       "993                Gujarat Titans         Delhi Capitals           bat   \n",
       "\n",
       "                    winner   result  result_margin  target_runs  target_overs  \\\n",
       "176       Rajasthan Royals  wickets            8.0        138.0          20.0   \n",
       "82         Kings XI Punjab  wickets            6.0        154.0          20.0   \n",
       "415        Kings XI Punjab  wickets            5.0        125.0          20.0   \n",
       "1044  Lucknow Super Giants     runs           33.0        164.0          20.0   \n",
       "993         Delhi Capitals     runs            5.0        131.0          20.0   \n",
       "\n",
       "     super_over method         umpire1      umpire2  \n",
       "176           N    NaN     RE Koertzen  SK Tarapore  \n",
       "82            N    NaN        S Asnani    MR Benson  \n",
       "415           N    NaN       BF Bowden       S Ravi  \n",
       "1044          N    NaN  A Nand Kishore    VK Sharma  \n",
       "993           N    NaN        MA Gough     R Pandit  "
      ]
     },
     "execution_count": 24,
     "metadata": {},
     "output_type": "execute_result"
    }
   ],
   "source": [
    "df1 = pd.read_csv(\"Data/Matches.csv\")\n",
    "df1.sample(5)"
   ]
  },
  {
   "cell_type": "code",
   "execution_count": 25,
   "id": "38605707",
   "metadata": {},
   "outputs": [
    {
     "name": "stderr",
     "output_type": "stream",
     "text": [
      "C:\\Users\\kapil\\AppData\\Local\\Temp\\ipykernel_4516\\4146148367.py:1: FutureWarning: A value is trying to be set on a copy of a DataFrame or Series through chained assignment using an inplace method.\n",
      "The behavior will change in pandas 3.0. This inplace method will never work because the intermediate object on which we are setting values always behaves as a copy.\n",
      "\n",
      "For example, when doing 'df[col].method(value, inplace=True)', try using 'df.method({col: value}, inplace=True)' or df[col] = df[col].method(value) instead, to perform the operation inplace on the original object.\n",
      "\n",
      "\n",
      "  df1['winner'].fillna(method='ffill', inplace=True)\n",
      "C:\\Users\\kapil\\AppData\\Local\\Temp\\ipykernel_4516\\4146148367.py:1: FutureWarning: Series.fillna with 'method' is deprecated and will raise in a future version. Use obj.ffill() or obj.bfill() instead.\n",
      "  df1['winner'].fillna(method='ffill', inplace=True)\n"
     ]
    }
   ],
   "source": [
    "df1['winner'].fillna(method='ffill', inplace=True)"
   ]
  },
  {
   "cell_type": "code",
   "execution_count": 26,
   "id": "9f799150",
   "metadata": {},
   "outputs": [
    {
     "name": "stderr",
     "output_type": "stream",
     "text": [
      "C:\\Users\\kapil\\AppData\\Local\\Temp\\ipykernel_4516\\2679314939.py:2: FutureWarning: A value is trying to be set on a copy of a DataFrame or Series through chained assignment using an inplace method.\n",
      "The behavior will change in pandas 3.0. This inplace method will never work because the intermediate object on which we are setting values always behaves as a copy.\n",
      "\n",
      "For example, when doing 'df[col].method(value, inplace=True)', try using 'df.method({col: value}, inplace=True)' or df[col] = df[col].method(value) instead, to perform the operation inplace on the original object.\n",
      "\n",
      "\n",
      "  df1['result_margin'].fillna(mode, inplace=True)\n"
     ]
    }
   ],
   "source": [
    "mode=df1['result_margin'].mode()[0]\n",
    "df1['result_margin'].fillna(mode, inplace=True)"
   ]
  },
  {
   "cell_type": "code",
   "execution_count": 27,
   "id": "17f5f9b8",
   "metadata": {},
   "outputs": [
    {
     "data": {
      "text/plain": [
       "id                    0\n",
       "season                0\n",
       "city                 51\n",
       "date                  0\n",
       "match_type            0\n",
       "player_of_match       5\n",
       "venue                 0\n",
       "team1                 0\n",
       "team2                 0\n",
       "toss_winner           0\n",
       "toss_decision         0\n",
       "winner                0\n",
       "result                0\n",
       "result_margin         0\n",
       "target_runs           3\n",
       "target_overs          3\n",
       "super_over            0\n",
       "method             1074\n",
       "umpire1               0\n",
       "umpire2               0\n",
       "dtype: int64"
      ]
     },
     "execution_count": 27,
     "metadata": {},
     "output_type": "execute_result"
    }
   ],
   "source": [
    "df1.isnull().sum()"
   ]
  },
  {
   "cell_type": "code",
   "execution_count": 28,
   "id": "573c4c35",
   "metadata": {},
   "outputs": [
    {
     "name": "stderr",
     "output_type": "stream",
     "text": [
      "C:\\Users\\kapil\\AppData\\Local\\Temp\\ipykernel_4516\\76492105.py:1: FutureWarning: A value is trying to be set on a copy of a DataFrame or Series through chained assignment using an inplace method.\n",
      "The behavior will change in pandas 3.0. This inplace method will never work because the intermediate object on which we are setting values always behaves as a copy.\n",
      "\n",
      "For example, when doing 'df[col].method(value, inplace=True)', try using 'df.method({col: value}, inplace=True)' or df[col] = df[col].method(value) instead, to perform the operation inplace on the original object.\n",
      "\n",
      "\n",
      "  df1['method'].fillna(method='ffill', inplace=True)\n",
      "C:\\Users\\kapil\\AppData\\Local\\Temp\\ipykernel_4516\\76492105.py:1: FutureWarning: Series.fillna with 'method' is deprecated and will raise in a future version. Use obj.ffill() or obj.bfill() instead.\n",
      "  df1['method'].fillna(method='ffill', inplace=True)\n"
     ]
    }
   ],
   "source": [
    "df1['method'].fillna(method='ffill', inplace=True)"
   ]
  },
  {
   "cell_type": "code",
   "execution_count": 29,
   "id": "73defa8b",
   "metadata": {},
   "outputs": [
    {
     "name": "stderr",
     "output_type": "stream",
     "text": [
      "C:\\Users\\kapil\\AppData\\Local\\Temp\\ipykernel_4516\\747182671.py:1: FutureWarning: A value is trying to be set on a copy of a DataFrame or Series through chained assignment using an inplace method.\n",
      "The behavior will change in pandas 3.0. This inplace method will never work because the intermediate object on which we are setting values always behaves as a copy.\n",
      "\n",
      "For example, when doing 'df[col].method(value, inplace=True)', try using 'df.method({col: value}, inplace=True)' or df[col] = df[col].method(value) instead, to perform the operation inplace on the original object.\n",
      "\n",
      "\n",
      "  df1['target_overs'].fillna(method='ffill', inplace=True)\n",
      "C:\\Users\\kapil\\AppData\\Local\\Temp\\ipykernel_4516\\747182671.py:1: FutureWarning: Series.fillna with 'method' is deprecated and will raise in a future version. Use obj.ffill() or obj.bfill() instead.\n",
      "  df1['target_overs'].fillna(method='ffill', inplace=True)\n"
     ]
    }
   ],
   "source": [
    "df1['target_overs'].fillna(method='ffill', inplace=True)"
   ]
  },
  {
   "cell_type": "code",
   "execution_count": 30,
   "id": "719b1b26",
   "metadata": {},
   "outputs": [
    {
     "name": "stderr",
     "output_type": "stream",
     "text": [
      "C:\\Users\\kapil\\AppData\\Local\\Temp\\ipykernel_4516\\3068396265.py:1: FutureWarning: A value is trying to be set on a copy of a DataFrame or Series through chained assignment using an inplace method.\n",
      "The behavior will change in pandas 3.0. This inplace method will never work because the intermediate object on which we are setting values always behaves as a copy.\n",
      "\n",
      "For example, when doing 'df[col].method(value, inplace=True)', try using 'df.method({col: value}, inplace=True)' or df[col] = df[col].method(value) instead, to perform the operation inplace on the original object.\n",
      "\n",
      "\n",
      "  df1['target_runs'].fillna(method='ffill', inplace=True)\n",
      "C:\\Users\\kapil\\AppData\\Local\\Temp\\ipykernel_4516\\3068396265.py:1: FutureWarning: Series.fillna with 'method' is deprecated and will raise in a future version. Use obj.ffill() or obj.bfill() instead.\n",
      "  df1['target_runs'].fillna(method='ffill', inplace=True)\n"
     ]
    }
   ],
   "source": [
    "df1['target_runs'].fillna(method='ffill', inplace=True)"
   ]
  },
  {
   "cell_type": "code",
   "execution_count": 31,
   "id": "576d8ec1",
   "metadata": {},
   "outputs": [
    {
     "name": "stderr",
     "output_type": "stream",
     "text": [
      "C:\\Users\\kapil\\AppData\\Local\\Temp\\ipykernel_4516\\1130084424.py:2: FutureWarning: A value is trying to be set on a copy of a DataFrame or Series through chained assignment using an inplace method.\n",
      "The behavior will change in pandas 3.0. This inplace method will never work because the intermediate object on which we are setting values always behaves as a copy.\n",
      "\n",
      "For example, when doing 'df[col].method(value, inplace=True)', try using 'df.method({col: value}, inplace=True)' or df[col] = df[col].method(value) instead, to perform the operation inplace on the original object.\n",
      "\n",
      "\n",
      "  df1['player_of_match'].fillna(mode_value, inplace=True)\n"
     ]
    }
   ],
   "source": [
    "mode_value = df1['player_of_match'].mode()[0]\n",
    "df1['player_of_match'].fillna(mode_value, inplace=True)"
   ]
  },
  {
   "cell_type": "code",
   "execution_count": 32,
   "id": "d77d8f5c",
   "metadata": {},
   "outputs": [
    {
     "name": "stderr",
     "output_type": "stream",
     "text": [
      "C:\\Users\\kapil\\AppData\\Local\\Temp\\ipykernel_4516\\3009172719.py:1: FutureWarning: A value is trying to be set on a copy of a DataFrame or Series through chained assignment using an inplace method.\n",
      "The behavior will change in pandas 3.0. This inplace method will never work because the intermediate object on which we are setting values always behaves as a copy.\n",
      "\n",
      "For example, when doing 'df[col].method(value, inplace=True)', try using 'df.method({col: value}, inplace=True)' or df[col] = df[col].method(value) instead, to perform the operation inplace on the original object.\n",
      "\n",
      "\n",
      "  df1['city'].fillna(method='ffill', inplace=True)\n",
      "C:\\Users\\kapil\\AppData\\Local\\Temp\\ipykernel_4516\\3009172719.py:1: FutureWarning: Series.fillna with 'method' is deprecated and will raise in a future version. Use obj.ffill() or obj.bfill() instead.\n",
      "  df1['city'].fillna(method='ffill', inplace=True)\n"
     ]
    }
   ],
   "source": [
    "df1['city'].fillna(method='ffill', inplace=True)\n"
   ]
  },
  {
   "cell_type": "code",
   "execution_count": 33,
   "id": "809d039e",
   "metadata": {},
   "outputs": [
    {
     "name": "stdout",
     "output_type": "stream",
     "text": [
      "<class 'pandas.core.frame.DataFrame'>\n",
      "RangeIndex: 1095 entries, 0 to 1094\n",
      "Data columns (total 20 columns):\n",
      " #   Column           Non-Null Count  Dtype  \n",
      "---  ------           --------------  -----  \n",
      " 0   id               1095 non-null   int64  \n",
      " 1   season           1095 non-null   object \n",
      " 2   city             1095 non-null   object \n",
      " 3   date             1095 non-null   object \n",
      " 4   match_type       1095 non-null   object \n",
      " 5   player_of_match  1095 non-null   object \n",
      " 6   venue            1095 non-null   object \n",
      " 7   team1            1095 non-null   object \n",
      " 8   team2            1095 non-null   object \n",
      " 9   toss_winner      1095 non-null   object \n",
      " 10  toss_decision    1095 non-null   object \n",
      " 11  winner           1095 non-null   object \n",
      " 12  result           1095 non-null   object \n",
      " 13  result_margin    1095 non-null   float64\n",
      " 14  target_runs      1095 non-null   float64\n",
      " 15  target_overs     1095 non-null   float64\n",
      " 16  super_over       1095 non-null   object \n",
      " 17  method           1057 non-null   object \n",
      " 18  umpire1          1095 non-null   object \n",
      " 19  umpire2          1095 non-null   object \n",
      "dtypes: float64(3), int64(1), object(16)\n",
      "memory usage: 171.2+ KB\n"
     ]
    }
   ],
   "source": [
    "df1.info()"
   ]
  },
  {
   "cell_type": "code",
   "execution_count": 34,
   "id": "0afb2fa7",
   "metadata": {},
   "outputs": [],
   "source": [
    "df1 = df1.drop('method', axis=1)"
   ]
  },
  {
   "cell_type": "code",
   "execution_count": 35,
   "id": "fd674f70",
   "metadata": {},
   "outputs": [],
   "source": [
    "df1['date']=pd.to_datetime(df1['date'])"
   ]
  },
  {
   "cell_type": "code",
   "execution_count": 36,
   "id": "9573360f",
   "metadata": {},
   "outputs": [],
   "source": [
    "df1['target_overs']=df1['target_overs'].astype(int)"
   ]
  },
  {
   "cell_type": "code",
   "execution_count": 37,
   "id": "67bba997",
   "metadata": {},
   "outputs": [
    {
     "data": {
      "text/html": [
       "<div>\n",
       "<style scoped>\n",
       "    .dataframe tbody tr th:only-of-type {\n",
       "        vertical-align: middle;\n",
       "    }\n",
       "\n",
       "    .dataframe tbody tr th {\n",
       "        vertical-align: top;\n",
       "    }\n",
       "\n",
       "    .dataframe thead th {\n",
       "        text-align: right;\n",
       "    }\n",
       "</style>\n",
       "<table border=\"1\" class=\"dataframe\">\n",
       "  <thead>\n",
       "    <tr style=\"text-align: right;\">\n",
       "      <th></th>\n",
       "      <th>id</th>\n",
       "      <th>season</th>\n",
       "      <th>city</th>\n",
       "      <th>date</th>\n",
       "      <th>match_type</th>\n",
       "      <th>player_of_match</th>\n",
       "      <th>venue</th>\n",
       "      <th>team1</th>\n",
       "      <th>team2</th>\n",
       "      <th>toss_winner</th>\n",
       "      <th>toss_decision</th>\n",
       "      <th>winner</th>\n",
       "      <th>result</th>\n",
       "      <th>result_margin</th>\n",
       "      <th>target_runs</th>\n",
       "      <th>target_overs</th>\n",
       "      <th>super_over</th>\n",
       "      <th>umpire1</th>\n",
       "      <th>umpire2</th>\n",
       "    </tr>\n",
       "  </thead>\n",
       "  <tbody>\n",
       "    <tr>\n",
       "      <th>596</th>\n",
       "      <td>1082610</td>\n",
       "      <td>2017</td>\n",
       "      <td>Rajkot</td>\n",
       "      <td>2017-04-18</td>\n",
       "      <td>League</td>\n",
       "      <td>CH Gayle</td>\n",
       "      <td>Saurashtra Cricket Association Stadium</td>\n",
       "      <td>Gujarat Lions</td>\n",
       "      <td>Royal Challengers Bangalore</td>\n",
       "      <td>Gujarat Lions</td>\n",
       "      <td>field</td>\n",
       "      <td>Royal Challengers Bangalore</td>\n",
       "      <td>runs</td>\n",
       "      <td>21.0</td>\n",
       "      <td>214.0</td>\n",
       "      <td>20</td>\n",
       "      <td>N</td>\n",
       "      <td>S Ravi</td>\n",
       "      <td>VK Sharma</td>\n",
       "    </tr>\n",
       "    <tr>\n",
       "      <th>775</th>\n",
       "      <td>1216511</td>\n",
       "      <td>2020/21</td>\n",
       "      <td>Abu Dhabi</td>\n",
       "      <td>2020-10-06</td>\n",
       "      <td>League</td>\n",
       "      <td>SA Yadav</td>\n",
       "      <td>Sheikh Zayed Stadium</td>\n",
       "      <td>Mumbai Indians</td>\n",
       "      <td>Rajasthan Royals</td>\n",
       "      <td>Mumbai Indians</td>\n",
       "      <td>bat</td>\n",
       "      <td>Mumbai Indians</td>\n",
       "      <td>runs</td>\n",
       "      <td>57.0</td>\n",
       "      <td>194.0</td>\n",
       "      <td>20</td>\n",
       "      <td>N</td>\n",
       "      <td>VK Sharma</td>\n",
       "      <td>S Ravi</td>\n",
       "    </tr>\n",
       "    <tr>\n",
       "      <th>0</th>\n",
       "      <td>335982</td>\n",
       "      <td>2007/08</td>\n",
       "      <td>Bangalore</td>\n",
       "      <td>2008-04-18</td>\n",
       "      <td>League</td>\n",
       "      <td>BB McCullum</td>\n",
       "      <td>M Chinnaswamy Stadium</td>\n",
       "      <td>Royal Challengers Bangalore</td>\n",
       "      <td>Kolkata Knight Riders</td>\n",
       "      <td>Royal Challengers Bangalore</td>\n",
       "      <td>field</td>\n",
       "      <td>Kolkata Knight Riders</td>\n",
       "      <td>runs</td>\n",
       "      <td>140.0</td>\n",
       "      <td>223.0</td>\n",
       "      <td>20</td>\n",
       "      <td>N</td>\n",
       "      <td>Asad Rauf</td>\n",
       "      <td>RE Koertzen</td>\n",
       "    </tr>\n",
       "    <tr>\n",
       "      <th>327</th>\n",
       "      <td>598003</td>\n",
       "      <td>2013</td>\n",
       "      <td>Pune</td>\n",
       "      <td>2013-04-07</td>\n",
       "      <td>League</td>\n",
       "      <td>M Vohra</td>\n",
       "      <td>Subrata Roy Sahara Stadium</td>\n",
       "      <td>Pune Warriors</td>\n",
       "      <td>Kings XI Punjab</td>\n",
       "      <td>Pune Warriors</td>\n",
       "      <td>bat</td>\n",
       "      <td>Kings XI Punjab</td>\n",
       "      <td>wickets</td>\n",
       "      <td>8.0</td>\n",
       "      <td>100.0</td>\n",
       "      <td>20</td>\n",
       "      <td>N</td>\n",
       "      <td>S Asnani</td>\n",
       "      <td>SJA Taufel</td>\n",
       "    </tr>\n",
       "    <tr>\n",
       "      <th>231</th>\n",
       "      <td>501255</td>\n",
       "      <td>2011</td>\n",
       "      <td>Bangalore</td>\n",
       "      <td>2011-05-14</td>\n",
       "      <td>League</td>\n",
       "      <td>CH Gayle</td>\n",
       "      <td>M Chinnaswamy Stadium</td>\n",
       "      <td>Royal Challengers Bangalore</td>\n",
       "      <td>Kolkata Knight Riders</td>\n",
       "      <td>Royal Challengers Bangalore</td>\n",
       "      <td>field</td>\n",
       "      <td>Royal Challengers Bangalore</td>\n",
       "      <td>wickets</td>\n",
       "      <td>4.0</td>\n",
       "      <td>102.0</td>\n",
       "      <td>13</td>\n",
       "      <td>N</td>\n",
       "      <td>RE Koertzen</td>\n",
       "      <td>RB Tiffin</td>\n",
       "    </tr>\n",
       "  </tbody>\n",
       "</table>\n",
       "</div>"
      ],
      "text/plain": [
       "          id   season       city       date match_type player_of_match  \\\n",
       "596  1082610     2017     Rajkot 2017-04-18     League        CH Gayle   \n",
       "775  1216511  2020/21  Abu Dhabi 2020-10-06     League        SA Yadav   \n",
       "0     335982  2007/08  Bangalore 2008-04-18     League     BB McCullum   \n",
       "327   598003     2013       Pune 2013-04-07     League         M Vohra   \n",
       "231   501255     2011  Bangalore 2011-05-14     League        CH Gayle   \n",
       "\n",
       "                                      venue                        team1  \\\n",
       "596  Saurashtra Cricket Association Stadium                Gujarat Lions   \n",
       "775                    Sheikh Zayed Stadium               Mumbai Indians   \n",
       "0                     M Chinnaswamy Stadium  Royal Challengers Bangalore   \n",
       "327              Subrata Roy Sahara Stadium                Pune Warriors   \n",
       "231                   M Chinnaswamy Stadium  Royal Challengers Bangalore   \n",
       "\n",
       "                           team2                  toss_winner toss_decision  \\\n",
       "596  Royal Challengers Bangalore                Gujarat Lions         field   \n",
       "775             Rajasthan Royals               Mumbai Indians           bat   \n",
       "0          Kolkata Knight Riders  Royal Challengers Bangalore         field   \n",
       "327              Kings XI Punjab                Pune Warriors           bat   \n",
       "231        Kolkata Knight Riders  Royal Challengers Bangalore         field   \n",
       "\n",
       "                          winner   result  result_margin  target_runs  \\\n",
       "596  Royal Challengers Bangalore     runs           21.0        214.0   \n",
       "775               Mumbai Indians     runs           57.0        194.0   \n",
       "0          Kolkata Knight Riders     runs          140.0        223.0   \n",
       "327              Kings XI Punjab  wickets            8.0        100.0   \n",
       "231  Royal Challengers Bangalore  wickets            4.0        102.0   \n",
       "\n",
       "     target_overs super_over      umpire1      umpire2  \n",
       "596            20          N       S Ravi    VK Sharma  \n",
       "775            20          N    VK Sharma       S Ravi  \n",
       "0              20          N    Asad Rauf  RE Koertzen  \n",
       "327            20          N     S Asnani   SJA Taufel  \n",
       "231            13          N  RE Koertzen    RB Tiffin  "
      ]
     },
     "execution_count": 37,
     "metadata": {},
     "output_type": "execute_result"
    }
   ],
   "source": [
    "df1.sample(5)"
   ]
  },
  {
   "cell_type": "code",
   "execution_count": 38,
   "id": "bc4a280b",
   "metadata": {},
   "outputs": [],
   "source": [
    "df1.to_csv(\"Data/Matches_cleaned.csv\", index=False)\n"
   ]
  },
  {
   "cell_type": "code",
   "execution_count": 39,
   "id": "a51db00f",
   "metadata": {},
   "outputs": [
    {
     "data": {
      "text/plain": [
       "id                 0\n",
       "season             0\n",
       "city               0\n",
       "date               0\n",
       "match_type         0\n",
       "player_of_match    0\n",
       "venue              0\n",
       "team1              0\n",
       "team2              0\n",
       "toss_winner        0\n",
       "toss_decision      0\n",
       "winner             0\n",
       "result             0\n",
       "result_margin      0\n",
       "target_runs        0\n",
       "target_overs       0\n",
       "super_over         0\n",
       "umpire1            0\n",
       "umpire2            0\n",
       "dtype: int64"
      ]
     },
     "execution_count": 39,
     "metadata": {},
     "output_type": "execute_result"
    }
   ],
   "source": [
    "df = pd.read_csv(\"Data/Matches_cleaned.csv\")\n",
    "df.isnull().sum()"
   ]
  },
  {
   "cell_type": "code",
   "execution_count": 40,
   "id": "6a56a2c9",
   "metadata": {},
   "outputs": [
    {
     "name": "stdout",
     "output_type": "stream",
     "text": [
      "<class 'pandas.core.frame.DataFrame'>\n",
      "RangeIndex: 1095 entries, 0 to 1094\n",
      "Data columns (total 19 columns):\n",
      " #   Column           Non-Null Count  Dtype  \n",
      "---  ------           --------------  -----  \n",
      " 0   id               1095 non-null   int64  \n",
      " 1   season           1095 non-null   object \n",
      " 2   city             1095 non-null   object \n",
      " 3   date             1095 non-null   object \n",
      " 4   match_type       1095 non-null   object \n",
      " 5   player_of_match  1095 non-null   object \n",
      " 6   venue            1095 non-null   object \n",
      " 7   team1            1095 non-null   object \n",
      " 8   team2            1095 non-null   object \n",
      " 9   toss_winner      1095 non-null   object \n",
      " 10  toss_decision    1095 non-null   object \n",
      " 11  winner           1095 non-null   object \n",
      " 12  result           1095 non-null   object \n",
      " 13  result_margin    1095 non-null   float64\n",
      " 14  target_runs      1095 non-null   float64\n",
      " 15  target_overs     1095 non-null   int64  \n",
      " 16  super_over       1095 non-null   object \n",
      " 17  umpire1          1095 non-null   object \n",
      " 18  umpire2          1095 non-null   object \n",
      "dtypes: float64(2), int64(2), object(15)\n",
      "memory usage: 162.7+ KB\n"
     ]
    }
   ],
   "source": [
    "df.info()"
   ]
  },
  {
   "cell_type": "code",
   "execution_count": 41,
   "id": "cee5f132",
   "metadata": {},
   "outputs": [
    {
     "data": {
      "image/png": "[encoded data removed]",
      "text/plain": [
       "<Figure size 640x480 with 1 Axes>"
      ]
     },
     "metadata": {},
     "output_type": "display_data"
    }
   ],
   "source": [
    "import matplotlib.pyplot as plt\n",
    "import seaborn as sns\n",
    "plt.Figure(figsize=(10, 6))\n",
    "sns.countplot(y='winner', data=df, order=df['winner'].value_counts().index)\n",
    "plt.title('Matches won by each team')\n",
    "plt.xlabel('Number of win')\n",
    "plt.ylabel('Team')\n",
    "plt.show()"
   ]
  },
  {
   "cell_type": "code",
   "execution_count": 42,
   "id": "ddef2f2b",
   "metadata": {},
   "outputs": [
    {
     "name": "stdout",
     "output_type": "stream",
     "text": [
      "Percentage of matches won by toss winner: 50.59%\n"
     ]
    }
   ],
   "source": [
    "toss_winner = df[df['toss_winner'] == df['winner']].shape[0]/len(df)*100\n",
    "print(f\"Percentage of matches won by toss winner: {toss_winner:.2f}%\")"
   ]
  },
  {
   "cell_type": "code",
   "execution_count": 43,
   "id": "f18f805c",
   "metadata": {},
   "outputs": [
    {
     "data": {
      "text/plain": [
       "<Axes: >"
      ]
     },
     "execution_count": 43,
     "metadata": {},
     "output_type": "execute_result"
    },
    {
     "data": {
      "image/png": "[encoded data removed]",
      "text/plain": [
       "<Figure size 1000x600 with 1 Axes>"
      ]
     },
     "metadata": {},
     "output_type": "display_data"
    }
   ],
   "source": [
    "top_player = df['player_of_match'].value_counts().head(5)\n",
    "plt.figure(figsize=(10, 6))\n",
    "sns.barplot(x=top_player.values, y=top_player.values)"
   ]
  },
  {
   "cell_type": "code",
   "execution_count": 44,
   "id": "e55b5805",
   "metadata": {},
   "outputs": [
    {
     "data": {
      "image/png": "[encoded data removed]",
      "text/plain": [
       "<Figure size 1000x500 with 1 Axes>"
      ]
     },
     "metadata": {},
     "output_type": "display_data"
    }
   ],
   "source": [
    "plt.figure(figsize=(10, 5))\n",
    "sns.countplot(x='result', data=df)\n",
    "plt.title('Match results')\n",
    "plt.show()"
   ]
  },
  {
   "cell_type": "code",
   "execution_count": 45,
   "id": "71eb611d",
   "metadata": {},
   "outputs": [
    {
     "data": {
      "image/png": "[encoded data removed]",
      "text/plain": [
       "<Figure size 1200x600 with 1 Axes>"
      ]
     },
     "metadata": {},
     "output_type": "display_data"
    }
   ],
   "source": [
    "toss_decision = df.groupby(['toss_decision', 'winner']).size().unstack()\n",
    "toss_decision.plot(kind='bar', stacked=True, figsize=(12, 6))\n",
    "plt.title(\"Toss Decision (Bat/Field) vs. Match Outcome\")\n",
    "plt.show()"
   ]
  },
  {
   "cell_type": "code",
   "execution_count": 46,
   "id": "f02d739d",
   "metadata": {},
   "outputs": [
    {
     "name": "stdout",
     "output_type": "stream",
     "text": [
      "                          winner  result_margin                        team1  \\\n",
      "620               Mumbai Indians          146.0             Delhi Daredevils   \n",
      "560  Royal Challengers Bangalore          144.0  Royal Challengers Bangalore   \n",
      "0          Kolkata Knight Riders          140.0  Royal Challengers Bangalore   \n",
      "496  Royal Challengers Bangalore          138.0  Royal Challengers Bangalore   \n",
      "352  Royal Challengers Bangalore          130.0  Royal Challengers Bangalore   \n",
      "\n",
      "                     team2  \n",
      "620         Mumbai Indians  \n",
      "560          Gujarat Lions  \n",
      "0    Kolkata Knight Riders  \n",
      "496        Kings XI Punjab  \n",
      "352          Pune Warriors  \n"
     ]
    }
   ],
   "source": [
    "high_margin_wins = df[df['result'] == 'runs'].nlargest(5, 'result_margin')\n",
    "print(high_margin_wins[['winner', 'result_margin', 'team1', 'team2']])"
   ]
  },
  {
   "cell_type": "code",
   "execution_count": 47,
   "id": "c955c34e",
   "metadata": {},
   "outputs": [
    {
     "data": {
      "text/plain": [
       "winner\n",
       "Mumbai Indians                 144\n",
       "Chennai Super Kings            139\n",
       "Kolkata Knight Riders          131\n",
       "Royal Challengers Bangalore    116\n",
       "Rajasthan Royals               113\n",
       "Sunrisers Hyderabad             89\n",
       "Kings XI Punjab                 88\n",
       "Delhi Daredevils                67\n",
       "Delhi Capitals                  49\n",
       "Deccan Chargers                 30\n",
       "Gujarat Titans                  28\n",
       "Punjab Kings                    24\n",
       "Lucknow Super Giants            24\n",
       "Gujarat Lions                   13\n",
       "Pune Warriors                   12\n",
       "Rising Pune Supergiant          10\n",
       "Royal Challengers Bengaluru      7\n",
       "Kochi Tuskers Kerala             6\n",
       "Rising Pune Supergiants          5\n",
       "Name: count, dtype: int64"
      ]
     },
     "execution_count": 47,
     "metadata": {},
     "output_type": "execute_result"
    }
   ],
   "source": [
    "df['winner'].value_counts()"
   ]
  },
  {
   "cell_type": "code",
   "execution_count": 48,
   "id": "35012c80",
   "metadata": {},
   "outputs": [
    {
     "data": {
      "text/plain": [
       "<Axes: ylabel='count'>"
      ]
     },
     "execution_count": 48,
     "metadata": {},
     "output_type": "execute_result"
    },
    {
     "data": {
      "image/png": "[encoded data removed]",
      "text/plain": [
       "<Figure size 1000x500 with 1 Axes>"
      ]
     },
     "metadata": {},
     "output_type": "display_data"
    }
   ],
   "source": [
    "df['toss_decision'].value_counts().plot(kind='pie', figsize=(10, 5))    "
   ]
  },
  {
   "cell_type": "code",
   "execution_count": 49,
   "id": "dc1a97e4",
   "metadata": {},
   "outputs": [
    {
     "data": {
      "text/plain": [
       "Text(0.5, 1.0, 'Distribution of Wins by Runs')"
      ]
     },
     "execution_count": 49,
     "metadata": {},
     "output_type": "execute_result"
    },
    {
     "data": {
      "image/png": "[encoded data removed]",
      "text/plain": [
       "<Figure size 600x400 with 1 Axes>"
      ]
     },
     "metadata": {},
     "output_type": "display_data"
    }
   ],
   "source": [
    "df1 = pd.read_csv(\"Data/Matches_cleaned.csv\")\n",
    "df1['result_margin'].plot(kind='hist',figsize=(6, 4), bins=20, color='blue', edgecolor='black')    \n",
    "plt.title('Distribution of Wins by Runs')"
   ]
  },
  {
   "cell_type": "code",
   "execution_count": 50,
   "id": "be1f23f0",
   "metadata": {},
   "outputs": [],
   "source": [
    "top_5=(df['team1'].value_counts()+df['team2'].value_counts()).sort_values(ascending=False).head()"
   ]
  },
  {
   "cell_type": "code",
   "execution_count": 52,
   "id": "16215c07",
   "metadata": {},
   "outputs": [
    {
     "data": {
      "text/plain": [
       "(np.float64(-1.0999999630453596),\n",
       " np.float64(1.099999671187933),\n",
       " np.float64(-1.0999909394383474),\n",
       " np.float64(1.0999950184878795))"
      ]
     },
     "execution_count": 52,
     "metadata": {},
     "output_type": "execute_result"
    },
    {
     "data": {
      "image/png": "[encoded data removed]",
      "text/plain": [
       "<Figure size 640x480 with 1 Axes>"
      ]
     },
     "metadata": {},
     "output_type": "display_data"
    }
   ],
   "source": [
    "plt.pie(top_5.values, labels=top_5.index, autopct='%1.1f%%', startangle=140)\n",
    "plt.title('Top 5 Teams by Matches Played')\n",
    "plt.axis('equal')  # Equal aspect ratio ensures that pie is drawn as a circle."
   ]
  },
  {
   "cell_type": "code",
   "execution_count": 53,
   "id": "6587a082",
   "metadata": {},
   "outputs": [
    {
     "data": {
      "image/png": "[encoded data removed]",
      "text/plain": [
       "<Figure size 640x480 with 1 Axes>"
      ]
     },
     "metadata": {},
     "output_type": "display_data"
    }
   ],
   "source": [
    "plt.pie(top_5.values, labels=top_5.index, autopct='%1.1f%%', startangle=140)\n",
    "plt.title('Top 5 Teams by Matches Played')\n",
    "plt.axis('equal')  # Equal aspect ratio ensures that pie is drawn as a circle.\n",
    "plt.show()"
   ]
  },
  {
   "cell_type": "code",
   "execution_count": 54,
   "id": "b15fa3b0",
   "metadata": {},
   "outputs": [
    {
     "data": {
      "image/png": "[encoded data removed]",
      "text/plain": [
       "<Figure size 640x480 with 1 Axes>"
      ]
     },
     "metadata": {},
     "output_type": "display_data"
    }
   ],
   "source": [
    "plt.pie(top_5.values, labels=top_5.index, autopct='%1.1f%%', startangle=140)\n",
    "plt.title('Top 5 Teams by Matches Played')\n",
    "plt.axis('equal')  # Equal aspect ratio ensures that pie is drawn as a circle.\n",
    "plt.show()"
   ]
  },
  {
   "cell_type": "code",
   "execution_count": null,
   "id": "4b5968e1",
   "metadata": {
    "vscode": {
     "languageId": "markdown"
    }
   },
   "outputs": [],
   "source": []
  }
 ],
 "metadata": {
  "kernelspec": {
   "display_name": "Python 3",
   "language": "python",
   "name": "python3"
  },
  "language_info": {
   "codemirror_mode": {
    "name": "ipython",
    "version": 3
   },
   "file_extension": ".py",
   "mimetype": "text/x-python",
   "name": "python",
   "nbconvert_exporter": "python",
   "pygments_lexer": "ipython3",
   "version": "3.12.6"
  }
 },
 "nbformat": 4,
 "nbformat_minor": 5
}
